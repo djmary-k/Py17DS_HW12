{
  "nbformat": 4,
  "nbformat_minor": 0,
  "metadata": {
    "colab": {
      "provenance": [],
      "gpuType": "T4",
      "authorship_tag": "ABX9TyMlK7Y8fhwVeVxDZl/sVlKR",
      "include_colab_link": true
    },
    "kernelspec": {
      "name": "python3",
      "display_name": "Python 3"
    },
    "language_info": {
      "name": "python"
    },
    "accelerator": "GPU"
  },
  "cells": [
    {
      "cell_type": "markdown",
      "metadata": {
        "id": "view-in-github",
        "colab_type": "text"
      },
      "source": [
        "<a href=\"https://colab.research.google.com/github/djmary-k/Py17DS_HW12/blob/main/Hw12.ipynb\" target=\"_parent\"><img src=\"https://colab.research.google.com/assets/colab-badge.svg\" alt=\"Open In Colab\"/></a>"
      ]
    },
    {
      "cell_type": "markdown",
      "source": [
        "# Homework 12\n",
        "## NLP\n",
        "\n",
        "Зробіть summary нижчевказаного тексту використовуючи бібліотеки для NLP: nltk та SpaCy"
      ],
      "metadata": {
        "id": "8dCZLreaTKxP"
      }
    },
    {
      "cell_type": "code",
      "execution_count": 1,
      "metadata": {
        "id": "OCxXe3ILTFPh"
      },
      "outputs": [],
      "source": [
        "# Імпортуємо необхідні бібліотеки\n",
        "import spacy\n",
        "import nltk\n",
        "from nltk.corpus import stopwords\n",
        "from nltk.tokenize import word_tokenize, sent_tokenize\n",
        "from heapq import nlargest\n",
        "from collections import defaultdict"
      ]
    },
    {
      "cell_type": "markdown",
      "source": [
        "Перш ніж почати роботу з SpaCy, необхідно завантажити потрібну мовну модель. Наприклад, для англійської мови ми можемо завантажити модель \"en_core_web_sm\":"
      ],
      "metadata": {
        "id": "BFasRdwHb08O"
      }
    },
    {
      "cell_type": "code",
      "source": [
        "nlp = spacy.load('en_core_web_sm')"
      ],
      "metadata": {
        "id": "wYn9NtR4bkh1"
      },
      "execution_count": 2,
      "outputs": []
    },
    {
      "cell_type": "code",
      "source": [
        "# Завантажимо ресурси бібліотеки nltk, потрібні для роботи з текстом\n",
        "nltk.download('punkt')\n",
        "nltk.download('stopwords')"
      ],
      "metadata": {
        "colab": {
          "base_uri": "https://localhost:8080/"
        },
        "id": "ta3gK4L2dnoK",
        "outputId": "ca7f29ab-b610-4d60-be8d-d4b5d778055e"
      },
      "execution_count": 3,
      "outputs": [
        {
          "output_type": "stream",
          "name": "stderr",
          "text": [
            "[nltk_data] Downloading package punkt to /root/nltk_data...\n",
            "[nltk_data]   Unzipping tokenizers/punkt.zip.\n",
            "[nltk_data] Downloading package stopwords to /root/nltk_data...\n",
            "[nltk_data]   Unzipping corpora/stopwords.zip.\n"
          ]
        },
        {
          "output_type": "execute_result",
          "data": {
            "text/plain": [
              "True"
            ]
          },
          "metadata": {},
          "execution_count": 3
        }
      ]
    },
    {
      "cell_type": "markdown",
      "source": [
        "Перш ніж почати створювати text summary, текст потрібно підготувати. Це включає в себе видалення непотрібних символів, токенізацію (розбиття тексту на окремі слова або речення), видалення стоп-слів (слова, які не несуть суттєвої інформації) і, за необхідності, інші обробки тексту, такі як стемінг або лематизація.\n"
      ],
      "metadata": {
        "id": "GgDxZXf6cG7-"
      }
    },
    {
      "cell_type": "code",
      "source": [
        "# Текст для обробки\n",
        "text = \"The Orbiter Discovery, OV-103, is considered eligible for listing in the National Register of Historic Places (NRHP) in the context of the U.S. Space Shuttle Program (1969-2011) under Criterion A in the areas of Space Exploration and Transportation and under Criterion C in the area of Engineering. Because it has achieved significance within the past fifty years, Criteria Consideration G applies. Under Criterion A, Discovery is significant as the oldest of the three extant orbiter vehicles constructed for the Space Shuttle Program (SSP), the longest running American space program to date; she was the third of five orbiters built by NASA. Unlike the Mercury, Gemini, and Apollo programs, the SSP’s emphasis was on cost effectiveness and reusability, and eventually the construction of a space station. Including her maiden voyage (launched August 30, 1984), Discovery flew to space thirty-nine times, more than any of the other four orbiters; she was also the first orbiter to fly twenty missions. She had the honor of being chosen as the Return to Flight vehicle after both the Challenger and Columbia accidents. Discovery was the first shuttle to fly with the redesigned SRBs, a result of the Challenger accident, and the first shuttle to fly with the Phase II and Block I SSME. Discovery also carried the Hubble Space Telescope to orbit and performed two of the five servicing missions to the observatory. She flew the first and last dedicated Department of Defense (DoD) missions, as well as the first unclassified defense-related mission. In addition, Discovery was vital to the construction of the International Space Station (ISS); she flew thirteen of the thirty-seven total missions flown to the station by a U.S. Space Shuttle. She was the first orbiter to dock to the ISS, and the first to perform an exchange of a resident crew. Under Criterion C, Discovery is significant as a feat of engineering. According to Wayne Hale, a flight director from Johnson Space Center, the Space Shuttle orbiter represents a “huge technological leap from expendable rockets and capsules to a reusable, winged, hypersonic, cargo-carrying spacecraft.” Although her base structure followed a conventional aircraft design, she used advanced materials that both minimized her weight for cargo-carrying purposes and featured low thermal expansion ratios, which provided a stable base for her Thermal Protection System (TPS) materials. The Space Shuttle orbiter also featured the first reusable TPS; all previous spaceflight vehicles had a single-use, ablative heat shield. Other notable engineering achievements of the orbiter included the first reusable orbital propulsion system, and the first two-fault-tolerant Integrated Avionics System. As Hale stated, the Space Shuttle remains “the largest, fastest, winged hypersonic aircraft in history,” having regularly flown at twenty-five times the speed of sound.\"\n"
      ],
      "metadata": {
        "id": "_QxrVGQTd3ZB"
      },
      "execution_count": 4,
      "outputs": []
    },
    {
      "cell_type": "code",
      "source": [
        "stop_words = set(stopwords.words('english'))\n",
        "word_tokens = [word for word in word_tokenize(text.lower()) if word.isalpha() and word not in stop_words]"
      ],
      "metadata": {
        "id": "PgKnJZSCeEi8"
      },
      "execution_count": 5,
      "outputs": []
    },
    {
      "cell_type": "markdown",
      "source": [
        "Тепер, коли у нас вже є список слів word_tokens, що не включає стоп-слова, ми можемо підрахувати, скільки разів кожне слово зустрічається в тексті. Це дасть нам уявлення про те, які слова є найбільш значущими в нашому тексті:"
      ],
      "metadata": {
        "id": "dm5kflDyePMc"
      }
    },
    {
      "cell_type": "code",
      "source": [
        "word_frequencies = defaultdict(int)\n",
        "for word in word_tokens:\n",
        "    word_frequencies[word] += 1"
      ],
      "metadata": {
        "id": "usgEDFtFeOAl"
      },
      "execution_count": 6,
      "outputs": []
    },
    {
      "cell_type": "markdown",
      "source": [
        "Далі, використовуючи NLTK, ми можемо розбити оригінальний текст на речення і розрахувати вагу кожного речення на основі частот слів, які воно містить. Це допоможе нам визначити, які речення несуть найбільш важливу інформацію в тексті."
      ],
      "metadata": {
        "id": "l8JKadqUehNo"
      }
    },
    {
      "cell_type": "code",
      "source": [
        "# Розбиваємо оригінальний текст на речення\n",
        "sentence_tokens = sent_tokenize(text)\n",
        "sentence_scores = defaultdict(int)"
      ],
      "metadata": {
        "id": "cOnBCwXJegzs"
      },
      "execution_count": 7,
      "outputs": []
    },
    {
      "cell_type": "code",
      "source": [
        "# Розраховуємо ваги кожного речення\n",
        "for sentence in sentence_tokens:\n",
        "    words = word_tokenize(sentence.lower())\n",
        "    for word in words:\n",
        "        if word in word_frequencies:\n",
        "            sentence_scores[sentence] += word_frequencies[word]"
      ],
      "metadata": {
        "id": "cIL59nUOeuZc"
      },
      "execution_count": 8,
      "outputs": []
    },
    {
      "cell_type": "markdown",
      "source": [
        "Коли ми вже маємо підготовлений текст та використали SpaCy або NLTK для отримання необхідної інформації, ми можемо створити текстове резюме. Це можна зробити, наприклад, шляхом виділення найважливіших речень з тексту, враховуючи їх вагу або частоту вживання певних слів."
      ],
      "metadata": {
        "id": "n3LeBZgcfJFo"
      }
    },
    {
      "cell_type": "markdown",
      "source": [
        "Для цього ми можемо використати функцію nlargest з бібліотеки heapq для вибору декількох речень з найвищими вагами."
      ],
      "metadata": {
        "id": "uvpvtxCqfRLK"
      }
    },
    {
      "cell_type": "code",
      "source": [
        "select_length = int(len(sentence_tokens) * 0.3)"
      ],
      "metadata": {
        "id": "D6lrrMfvfTgM"
      },
      "execution_count": 9,
      "outputs": []
    },
    {
      "cell_type": "markdown",
      "source": [
        "Визначили кількість речень у резюме (наприклад,  використаємо 30% від усіх речень).\n",
        "\n",
        "Тепер вже можемо вибрати найважливіші речення:"
      ],
      "metadata": {
        "id": "_WoRp1_BfZ5Z"
      }
    },
    {
      "cell_type": "code",
      "source": [
        "summary = ' '.join(nlargest(select_length, sentence_scores, key=sentence_scores.get))\n",
        "summary"
      ],
      "metadata": {
        "colab": {
          "base_uri": "https://localhost:8080/",
          "height": 109
        },
        "id": "wjWB_oc5fcyP",
        "outputId": "8ad82a60-d8cc-4690-cf7d-f474d17a4707"
      },
      "execution_count": 11,
      "outputs": [
        {
          "output_type": "execute_result",
          "data": {
            "text/plain": [
              "'According to Wayne Hale, a flight director from Johnson Space Center, the Space Shuttle orbiter represents a “huge technological leap from expendable rockets and capsules to a reusable, winged, hypersonic, cargo-carrying spacecraft.” Although her base structure followed a conventional aircraft design, she used advanced materials that both minimized her weight for cargo-carrying purposes and featured low thermal expansion ratios, which provided a stable base for her Thermal Protection System (TPS) materials. Under Criterion A, Discovery is significant as the oldest of the three extant orbiter vehicles constructed for the Space Shuttle Program (SSP), the longest running American space program to date; she was the third of five orbiters built by NASA. The Orbiter Discovery, OV-103, is considered eligible for listing in the National Register of Historic Places (NRHP) in the context of the U.S. Space Shuttle Program (1969-2011) under Criterion A in the areas of Space Exploration and Transportation and under Criterion C in the area of Engineering. In addition, Discovery was vital to the construction of the International Space Station (ISS); she flew thirteen of the thirty-seven total missions flown to the station by a U.S. Space Shuttle.'"
            ],
            "application/vnd.google.colaboratory.intrinsic+json": {
              "type": "string"
            }
          },
          "metadata": {},
          "execution_count": 11
        }
      ]
    }
  ]
}